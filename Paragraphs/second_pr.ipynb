{
 "cells": [
  {
   "cell_type": "code",
   "execution_count": null,
   "metadata": {
    "collapsed": true
   },
   "outputs": [],
   "source": [
    "inf_num = 99999999999\n",
    "\n",
    "def word_wrap (len_of_words, n, max_char):\n",
    "\n",
    "\tspace = [[0 for i in range(n + 1)]\n",
    "\t\t\t\tfor i in range(n + 1)]\n",
    "\n",
    "\tline_cost = [[0 for i in range(n + 1)]\n",
    "\t\t\tfor i in range(n + 1)]\n",
    "\n",
    "\ttotal_cost = [0 for i in range(n + 1)]\n",
    "\n",
    "\ts = [0 for i in range(n + 1)]\n",
    "\n",
    "\tfor i in range(n + 1):\n",
    "\t\tspace[i][i] = max_char - len_of_words[i - 1]\n",
    "\t\tfor j in range(i + 1, n + 1):\n",
    "\t\t\tspace[i][j] = (space[i][j - 1] -\n",
    "\t\t\t\t\t\t\t\t\tlen_of_words[j - 1] - 1)\n",
    "\n",
    "\tfor i in range(n + 1):\n",
    "\t\tfor j in range(i, n + 1):\n",
    "\t\t\tif space[i][j] < 0:\n",
    "\t\t\t\tline_cost[i][j] = inf_num\n",
    "\t\t\telif j == n and space[i][j] >= 0:\n",
    "\t\t\t\tline_cost[i][j] = 0\n",
    "\t\t\telse:\n",
    "\t\t\t\tline_cost[i][j] = (space[i][j] *\n",
    "\t\t\t\t\t\t\tspace[i][j])\n",
    "\n",
    "\ttotal_cost[0] = 0\n",
    "\tfor j in range(1, n + 1):\n",
    "\t\ttotal_cost[j] = inf_num\n",
    "\t\tfor i in range(1, j + 1):\n",
    "\t\t\tif (total_cost[i - 1] != inf_num and\n",
    "\t\t\t\tline_cost[i][j] != inf_num and\n",
    "\t\t\t\t((total_cost[i - 1] + line_cost[i][j]) < total_cost[j])):\n",
    "\t\t\t\ttotal_cost[j] = total_cost[i-1] + line_cost[i][j]\n",
    "\t\t\t\ts[j] = i\n",
    "\treturn s\n",
    "\n",
    "def print_result(s, n):\n",
    "\tk = 0\n",
    "\tif s[n] == 1:\n",
    "\t\tk = 1\n",
    "\telse:\n",
    "\t\tk = print_result(s, s[n] - 1) + 1\n",
    "\tprint('Line number ', k, ': From word number ',s[n], 'to ', n)\n",
    "\treturn k\n",
    "\n",
    "\n",
    "# Just run the code to see the result\n",
    "\n",
    "len_words = [2, 3, 2, 5]\n",
    "num = len(len_words)\n",
    "max_ch = 10\n",
    "result = word_wrap(len_words, num, max_ch)\n",
    "print_result(result, num)\n",
    "\n"
   ]
  }
 ],
 "metadata": {
  "kernelspec": {
   "display_name": "Python 3",
   "language": "python",
   "name": "python3"
  },
  "language_info": {
   "codemirror_mode": {
    "name": "ipython",
    "version": 2
   },
   "file_extension": ".py",
   "mimetype": "text/x-python",
   "name": "python",
   "nbconvert_exporter": "python",
   "pygments_lexer": "ipython2",
   "version": "2.7.6"
  }
 },
 "nbformat": 4,
 "nbformat_minor": 0
}