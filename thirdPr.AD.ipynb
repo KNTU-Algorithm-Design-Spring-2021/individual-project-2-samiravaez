{
 "cells": [
  {
   "cell_type": "code",
   "execution_count": null,
   "metadata": {
    "collapsed": true
   },
   "outputs": [],
   "source": [
    "vocab = set()\n",
    "with open(\"vocab.txt\") as file:\n",
    "    for word in file:\n",
    "        word = word.strip()\n",
    "        if word:\n",
    "            vocab.add(word)\n",
    "\n",
    "def word_break(string, result=''):\n",
    "    string = string.lower()\n",
    "    prefix = ''\n",
    "    for index, c in enumerate(string):\n",
    "        prefix += c\n",
    "        if prefix in vocab:\n",
    "            word_break(string[index+1:], result=f'{result}{prefix} ')\n",
    "    if prefix in vocab:\n",
    "        result += prefix\n",
    "        print(result)\n",
    "\n",
    "\n",
    "print(\"First Test:\")\n",
    "word_break(\"CALLSECURITYATMIAMIAIRPORTBECAUSEITHINKABOMBISABOUTTOGOOFF\")\n",
    "print('\\nSecond Test:')\n",
    "word_break(\"ABORTTHEPLANMEETATTHEDARKCABIN\")"
   ]
  }
 ],
 "metadata": {
  "kernelspec": {
   "display_name": "Python 3",
   "language": "python",
   "name": "python3"
  },
  "language_info": {
   "codemirror_mode": {
    "name": "ipython",
    "version": 2
   },
   "file_extension": ".py",
   "mimetype": "text/x-python",
   "name": "python",
   "nbconvert_exporter": "python",
   "pygments_lexer": "ipython2",
   "version": "2.7.6"
  }
 },
 "nbformat": 4,
 "nbformat_minor": 0
}