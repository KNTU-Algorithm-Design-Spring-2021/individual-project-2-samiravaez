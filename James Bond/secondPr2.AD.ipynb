{
 "cells": [
  {
   "cell_type": "code",
   "execution_count": null,
   "metadata": {
    "collapsed": true
   },
   "outputs": [],
   "source": [
    "vocab = set()\n",
    "with open(\"vocab.txt\") as file:\n",
    "    for word in file:\n",
    "        word = word.strip()\n",
    "        if word:\n",
    "            vocab.add(word)\n",
    "\n",
    "def helper(res, s, temp, dp, m):\n",
    "    if m==0:\n",
    "        str_res = \"\"\n",
    "        for i in range(len(temp)-1, 0, -1):\n",
    "            str_res += s[temp[i]:temp[i-1]]\n",
    "            str_res += \" \"\n",
    "        res.append(str_res[:-1])\n",
    "    else:\n",
    "        for j in dp[m]:\n",
    "            temp.append(j)\n",
    "            helper(res, s, temp, dp, j)\n",
    "            temp.pop()\n",
    "\n",
    "\n",
    "def word_break(s):\n",
    "    s = s.lower()\n",
    "    dp = [[] for i in range(len(s)+1)]\n",
    "    dp[0] = 1\n",
    "    res = []\n",
    "    temp = [len(s)]\n",
    "    for i in range(1,len(s)+1):\n",
    "        for j in range(i):\n",
    "            if dp[j] and s[j:i] in vocab:\n",
    "                dp[i].append(j)\n",
    "    if dp[-1]:\n",
    "        helper(res, s, temp, dp, -1)\n",
    "    g = -1\n",
    "    for i in range(len(res)):\n",
    "        print(res[g])\n",
    "        g -= 1\n",
    "\n",
    "\n",
    "print(\"First Test:\")\n",
    "word_break(\"CALLSECURITYATMIAMIAIRPORTBECAUSEITHINKABOMBISABOUTTOGOOFF\")\n",
    "print('\\nSecond Test:')\n",
    "word_break(\"ABORTTHEPLANMEETATTHEDARKCABIN\")"
   ]
  }
 ],
 "metadata": {
  "kernelspec": {
   "display_name": "Python 3",
   "language": "python",
   "name": "python3"
  },
  "language_info": {
   "codemirror_mode": {
    "name": "ipython",
    "version": 2
   },
   "file_extension": ".py",
   "mimetype": "text/x-python",
   "name": "python",
   "nbconvert_exporter": "python",
   "pygments_lexer": "ipython2",
   "version": "2.7.6"
  }
 },
 "nbformat": 4,
 "nbformat_minor": 0
}